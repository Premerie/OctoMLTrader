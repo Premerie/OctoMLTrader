{
  "nbformat": 4,
  "nbformat_minor": 0,
  "metadata": {
    "colab": {
      "provenance": [],
      "authorship_tag": "ABX9TyO2ImyZSZvqsE1InpGAazMM",
      "include_colab_link": true
    },
    "kernelspec": {
      "name": "python3",
      "display_name": "Python 3"
    },
    "language_info": {
      "name": "python"
    }
  },
  "cells": [
    {
      "cell_type": "markdown",
      "metadata": {
        "id": "view-in-github",
        "colab_type": "text"
      },
      "source": [
        "<a href=\"https://colab.research.google.com/github/Premerie/OctoMLTrader2/blob/main/MachineLearningAndTrading.ipynb\" target=\"_parent\"><img src=\"https://colab.research.google.com/assets/colab-badge.svg\" alt=\"Open In Colab\"/></a>"
      ]
    },
    {
      "cell_type": "code",
      "source": [
        "\n",
        "import numpy as np\n",
        "import pandas as pd\n",
        "from sklearn.model_selection import train_test_split, GridSearchCV\n",
        "from sklearn.preprocessing import StandardScaler\n",
        "from sklearn.neighbors import KNeighborsRegressor\n",
        "from textblob import TextBlob\n",
        "import yfinance as yf\n",
        "\n",
        "# Fetch historical forex data (GBP/USD)\n",
        "def get_forex_data(ticker, start_date, end_date):\n",
        "    forex_data = yf.download(ticker, start=start_date, end=end_date)\n",
        "    return forex_data\n",
        "\n",
        "# Fetch financial news data for GBP/USD\n",
        "def get_news_data(currency_pair, start_date, end_date):\n",
        "    # Assume you have a CSV file with columns 'Date' and 'News' containing news headlines related to GBP/USD\n",
        "    # You can replace this with your actual dataset\n",
        "    news_data = pd.read_csv('gbpusd_news.csv')\n",
        "    news_data['Date'] = pd.to_datetime(news_data['Date'])\n",
        "    news_data = news_data[(news_data['Date'] >= start_date) & (news_data['Date'] <= end_date)]\n",
        "    return news_data\n",
        "\n",
        "# Feature engineering\n",
        "def create_features(data):\n",
        "    data['Date'] = data.index\n",
        "    data['Date'] = pd.to_datetime(data['Date'])\n",
        "    data['Day'] = data['Date'].dt.day\n",
        "    data['Month'] = data['Date'].dt.month\n",
        "    data['Year'] = data['Date'].dt.year\n",
        "    return data[['Open', 'High', 'Low', 'Volume', 'Day', 'Month', 'Year']]\n",
        "\n",
        "# Perform sentiment analysis using TextBlob\n",
        "def analyze_sentiment(text):\n",
        "    analysis = TextBlob(text)\n",
        "    return analysis.sentiment.polarity\n",
        "\n",
        "# Merge forex and news data\n",
        "def merge_data(forex_data, news_data):\n",
        "    merged_data = pd.merge(forex_data, news_data, how='inner', left_on='Date', right_on='Date')\n",
        "    return merged_data\n",
        "\n",
        "# Fetch data\n",
        "currency_pair = 'GBPUSD=X'  # Yahoo Finance symbol for GBP/USD\n",
        "start_date = '2022-01-01'\n",
        "end_date = '2024-01-01'\n",
        "forex_data = get_forex_data(currency_pair, start_date, end_date)\n",
        "features = create_features(forex_data)"
      ],
      "metadata": {
        "colab": {
          "base_uri": "https://localhost:8080/"
        },
        "id": "C5JOaqGbEe0H",
        "outputId": "1948d4c1-b2ee-4a39-f989-29a37af4058b"
      },
      "execution_count": null,
      "outputs": [
        {
          "output_type": "stream",
          "name": "stdout",
          "text": [
            "\r[*********************100%%**********************]  1 of 1 completed\n"
          ]
        }
      ]
    },
    {
      "cell_type": "code",
      "source": [
        "target = forex_data['Close']\n",
        "target"
      ],
      "metadata": {
        "colab": {
          "base_uri": "https://localhost:8080/"
        },
        "id": "Nv42hc3EETIl",
        "outputId": "e3c4b2d9-99d7-4fdc-87c9-80cd635abe2f"
      },
      "execution_count": null,
      "outputs": [
        {
          "output_type": "execute_result",
          "data": {
            "text/plain": [
              "Date\n",
              "2022-01-03    1.352228\n",
              "2022-01-04    1.348327\n",
              "2022-01-05    1.353143\n",
              "2022-01-06    1.355565\n",
              "2022-01-07    1.353363\n",
              "                ...   \n",
              "2023-12-25    1.267700\n",
              "2023-12-26    1.270487\n",
              "2023-12-27    1.272718\n",
              "2023-12-28    1.280082\n",
              "2023-12-29    1.273399\n",
              "Name: Close, Length: 520, dtype: float64"
            ]
          },
          "metadata": {},
          "execution_count": 6
        }
      ]
    },
    {
      "cell_type": "code",
      "source": [
        "\n",
        "# Split data into training and testing sets\n",
        "X_train, X_test, y_train, y_test = train_test_split(features, target, test_size=0.2, random_state=42)"
      ],
      "metadata": {
        "id": "6lBWoe3XOrAy"
      },
      "execution_count": null,
      "outputs": []
    },
    {
      "cell_type": "code",
      "source": [
        "\n",
        "scaler = StandardScaler()\n",
        "X_train_scaled = scaler.fit_transform(X_train)\n",
        "X_test_scaled = scaler.transform(X_test)\n",
        "\n",
        "# Define parameter grid for hyperparameter optimization\n",
        "param_grid = {'n_neighbors': [3, 5, 7, 9],\n",
        "              'weights': ['uniform', 'distance'],\n",
        "              'p': [1, 2]}\n",
        "\n",
        "# Create KNN regressor\n",
        "knn_model = KNeighborsRegressor()\n",
        "\n",
        "# Initialize GridSearchCV\n",
        "grid_search = GridSearchCV(knn_model, param_grid, cv=5, scoring='neg_mean_squared_error', n_jobs=-1)\n",
        "\n",
        "# Fit the model with hyperparameter optimization\n",
        "grid_search.fit(X_train_scaled, y_train)\n",
        "\n",
        "# Get the best parameters\n",
        "best_params = grid_search.best_params_\n",
        "print('Best Parameters:', best_params)\n",
        "\n",
        "# Use the best model for predictions\n",
        "best_model = grid_search.best_estimator_\n",
        "predictions = best_model.predict(X_test_scaled)"
      ],
      "metadata": {
        "colab": {
          "base_uri": "https://localhost:8080/"
        },
        "id": "1FSS2_CdO4ub",
        "outputId": "62a8bbc9-fc38-4b66-a30a-dc0711d96651"
      },
      "execution_count": null,
      "outputs": [
        {
          "output_type": "stream",
          "name": "stdout",
          "text": [
            "Best Parameters: {'n_neighbors': 3, 'p': 1, 'weights': 'distance'}\n"
          ]
        }
      ]
    },
    {
      "cell_type": "code",
      "source": [
        "predictions"
      ],
      "metadata": {
        "colab": {
          "base_uri": "https://localhost:8080/"
        },
        "id": "15D5ZD9DPUV0",
        "outputId": "c4f3f92d-b1f6-4394-d2eb-b6783dd831a0"
      },
      "execution_count": null,
      "outputs": [
        {
          "output_type": "execute_result",
          "data": {
            "text/plain": [
              "array([1.23699523, 1.22287607, 1.3592736 , 1.17938931, 1.23344251,\n",
              "       1.26918766, 1.24252427, 1.18375402, 1.07947774, 1.22849322,\n",
              "       1.12795413, 1.15996868, 1.19021533, 1.2706307 , 1.36124588,\n",
              "       1.27842487, 1.2431994 , 1.35391698, 1.2511249 , 1.18749036,\n",
              "       1.20958823, 1.255089  , 1.21276692, 1.16912057, 1.2334672 ,\n",
              "       1.24327732, 1.29970305, 1.21575937, 1.25660771, 1.20917057,\n",
              "       1.21654929, 1.24556944, 1.2463999 , 1.3677895 , 1.23906498,\n",
              "       1.30885654, 1.27488824, 1.11608596, 1.27172467, 1.20343435,\n",
              "       1.20135256, 1.25516468, 1.31753764, 1.27097558, 1.27463362,\n",
              "       1.2138022 , 1.14368661, 1.20559242, 1.21388946, 1.15058686,\n",
              "       1.13352871, 1.20614456, 1.30540422, 1.23770615, 1.25943054,\n",
              "       1.21685998, 1.24005178, 1.30523477, 1.35282681, 1.30513201,\n",
              "       1.30720006, 1.2731711 , 1.24352968, 1.20407084, 1.31158746,\n",
              "       1.22744493, 1.23855357, 1.30431867, 1.15192033, 1.35884089,\n",
              "       1.30411774, 1.30586311, 1.34946596, 1.36077376, 1.24216063,\n",
              "       1.35454875, 1.21783024, 1.25157689, 1.26143157, 1.25566363,\n",
              "       1.14317154, 1.19694468, 1.3451886 , 1.24757258, 1.19699966,\n",
              "       1.22560326, 1.25386332, 1.34071961, 1.21890461, 1.31278832,\n",
              "       1.21271689, 1.23046228, 1.23577587, 1.15038605, 1.20435777,\n",
              "       1.25157346, 1.2097339 , 1.26479934, 1.21209584, 1.30698499,\n",
              "       1.24609196, 1.27178708, 1.24614358, 1.1836578 ])"
            ]
          },
          "metadata": {},
          "execution_count": 10
        }
      ]
    },
    {
      "cell_type": "markdown",
      "source": [],
      "metadata": {
        "id": "hyshQ2G7_8GQ"
      }
    }
  ]
}